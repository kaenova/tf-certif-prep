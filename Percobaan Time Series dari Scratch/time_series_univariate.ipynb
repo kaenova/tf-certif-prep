{
 "cells": [
  {
   "cell_type": "code",
   "execution_count": 6,
   "metadata": {},
   "outputs": [],
   "source": [
    "import os\n",
    "os.environ['CUDA_VISIBLE_DEVICES'] = '-1' # -1 for disable CUDA\n",
    "\n",
    "\n",
    "import numpy as np\n",
    "import tensorflow as tf\n",
    "import csv\n",
    "CSV_DATA = \"daily-min-temp.csv\""
   ]
  },
  {
   "cell_type": "code",
   "execution_count": 7,
   "metadata": {},
   "outputs": [
    {
     "data": {
      "text/plain": [
       "array([20.7, 17.9, 18.8, ..., 13.5, 15.7, 13. ])"
      ]
     },
     "execution_count": 7,
     "metadata": {},
     "output_type": "execute_result"
    }
   ],
   "source": [
    "time_step = []\n",
    "temps = []\n",
    "\n",
    "with open(CSV_DATA) as csvfile:\n",
    "    reader = csv.reader(csvfile, delimiter=',')\n",
    "    next(reader)\n",
    "    step = 0\n",
    "    for row in reader:\n",
    "        temps.append(float(row[1]))\n",
    "        time_step.append(step)\n",
    "        step=step + 1\n",
    "\n",
    "series = np.array(temps)\n",
    "series"
   ]
  },
  {
   "cell_type": "code",
   "execution_count": 3,
   "metadata": {},
   "outputs": [],
   "source": [
    "# # Normalizing series (in certification preparation)\n",
    "# min=np.min(series)\n",
    "# max=np.max(series)\n",
    "# series -= min\n",
    "# series /= max\n",
    "# series"
   ]
  },
  {
   "cell_type": "code",
   "execution_count": 4,
   "metadata": {},
   "outputs": [
    {
     "data": {
      "text/plain": [
       "array([0.78707224, 0.68060837, 0.7148289 , ..., 0.51330798, 0.59695817,\n",
       "       0.49429658])"
      ]
     },
     "execution_count": 4,
     "metadata": {},
     "output_type": "execute_result"
    }
   ],
   "source": [
    "# Normalizing series (it's min-max scaling right?) Yep...\n",
    "min=np.min(series)\n",
    "max=np.max(series)\n",
    "series = (series - min) / (max - min)\n",
    "series"
   ]
  },
  {
   "cell_type": "code",
   "execution_count": 5,
   "metadata": {},
   "outputs": [],
   "source": [
    "# DO NOT CHANGE THIS CODE\n",
    "split_time=2500\n",
    "x_train=series[:split_time]\n",
    "x_valid=series[:split_time]"
   ]
  },
  {
   "cell_type": "code",
   "execution_count": 6,
   "metadata": {},
   "outputs": [],
   "source": [
    "# DO NOT CHANGE THIS CODE\n",
    "window_size=64\n",
    "batch_size=256\n",
    "shuffle_buffer_size=1000\n",
    "\n",
    "def windowed_dataset(series, window_size, batch_size, shuffle_buffer):\n",
    "    series = tf.expand_dims(series, axis=-1)\n",
    "    ds = tf.data.Dataset.from_tensor_slices(series)\n",
    "    ds = ds.window(window_size + 1, shift=1, drop_remainder=True)\n",
    "    ds = ds.flat_map(lambda w: w.batch(window_size + 1))\n",
    "    ds = ds.shuffle(shuffle_buffer)\n",
    "    ds = ds.map(lambda w: (w[:-1], w[1:]))\n",
    "    return ds.batch(batch_size).prefetch(1)\n",
    "\n",
    "train_set=windowed_dataset(\n",
    "        x_train, window_size, batch_size, shuffle_buffer_size)\n",
    "test_set=windowed_dataset(\n",
    "        x_valid, window_size, batch_size, shuffle_buffer_size)"
   ]
  },
  {
   "cell_type": "code",
   "execution_count": 7,
   "metadata": {},
   "outputs": [],
   "source": [
    "# Only work for one feature\n",
    "def window_set(series, window_size):\n",
    "    max_datasets = len(series) - window_size\n",
    "    series = series.reshape((-1, 1))\n",
    "    x = np.asarray([series[i:window_size+i] for i in range(max_datasets)])\n",
    "    y = np.asarray([series[window_size+i] for i in range(max_datasets)]).reshape(-1)\n",
    "    return x, y\n",
    "\n",
    "x, y = window_set(x_train, window_size)\n",
    "x_val, y_val = window_set(x_valid, window_size)"
   ]
  },
  {
   "cell_type": "code",
   "execution_count": 8,
   "metadata": {},
   "outputs": [],
   "source": [
    "main_model=tf.keras.models.Sequential([\n",
    "            # YOUR CODE HERE.\n",
    "            tf.keras.layers.Input(shape=(window_size, 1)),\n",
    "            tf.keras.layers.Conv1D(filters=64, kernel_size=5,\n",
    "                                strides=1, padding=\"causal\",\n",
    "                                activation=\"relu\"),\n",
    "            tf.keras.layers.Bidirectional(tf.keras.layers.LSTM(64, return_sequences=True)),\n",
    "            tf.keras.layers.Bidirectional(tf.keras.layers.LSTM(32)),\n",
    "            tf.keras.layers.Dense(30, activation=\"relu\"),\n",
    "            tf.keras.layers.Dense(30, activation=\"relu\"),\n",
    "            tf.keras.layers.Dense(10, activation=\"relu\"),\n",
    "            tf.keras.layers.Dense(1),\n",
    "    ])"
   ]
  },
  {
   "cell_type": "code",
   "execution_count": 9,
   "metadata": {},
   "outputs": [],
   "source": [
    "class TargetCallbacks(tf.keras.callbacks.Callback):\n",
    "    MAX_CONSECUTIVE = 10\n",
    "    consecutive_target = 0\n",
    "\n",
    "    target = \"mean_absolute_error\"\n",
    "    val_target =\"val_mean_absolute_error\"\n",
    "\n",
    "    desired = 0.19\n",
    "\n",
    "    def on_epoch_end(self, epoch, logs=None):\n",
    "        if (logs[self.target] < self.desired) and (logs[self.val_target] < self.desired):\n",
    "            self.consecutive_target += 1\n",
    "            if self.consecutive_target >= 5:\n",
    "                self.model.stop_training=True\n",
    "        else:\n",
    "            self.consecutive_target = 0\n",
    "\n",
    "def create_model(model, weights):\n",
    "    model1=tf.keras.models.clone_model(model)\n",
    "    model1.compile(optimizer=\"adam\", loss=tf.keras.losses.Huber(), metrics=[\"mean_absolute_error\"])\n",
    "    model1.set_weights(weights)\n",
    "    \n",
    "    model2=tf.keras.models.clone_model(model)\n",
    "    model2.compile(optimizer=\"adam\", loss=tf.keras.losses.Huber(), metrics=[\"mean_absolute_error\"])\n",
    "    model2.set_weights(weights)\n",
    "    return model1, model2"
   ]
  },
  {
   "cell_type": "code",
   "execution_count": 10,
   "metadata": {},
   "outputs": [
    {
     "name": "stdout",
     "output_type": "stream",
     "text": [
      "0x1e93e9233d0\n",
      "0x1e93e9b4fa0\n"
     ]
    }
   ],
   "source": [
    "model1, model2 = create_model(main_model, main_model.get_weights())\n",
    "# Check if points to same model\n",
    "print(hex(id(model1)))\n",
    "print(hex(id(model2)))"
   ]
  },
  {
   "cell_type": "code",
   "execution_count": 11,
   "metadata": {},
   "outputs": [
    {
     "name": "stdout",
     "output_type": "stream",
     "text": [
      "Epoch 1/100\n",
      "10/10 [==============================] - 12s 529ms/step - loss: 0.0765 - mean_absolute_error: 0.3581 - val_loss: 0.0255 - val_mean_absolute_error: 0.1921\n",
      "Epoch 2/100\n",
      "10/10 [==============================] - 4s 455ms/step - loss: 0.0152 - mean_absolute_error: 0.1401 - val_loss: 0.0087 - val_mean_absolute_error: 0.1027\n",
      "Epoch 3/100\n",
      "10/10 [==============================] - 5s 467ms/step - loss: 0.0096 - mean_absolute_error: 0.1086 - val_loss: 0.0086 - val_mean_absolute_error: 0.1026\n",
      "Epoch 4/100\n",
      "10/10 [==============================] - 5s 473ms/step - loss: 0.0084 - mean_absolute_error: 0.1016 - val_loss: 0.0081 - val_mean_absolute_error: 0.0996\n",
      "Epoch 5/100\n",
      "10/10 [==============================] - 5s 463ms/step - loss: 0.0080 - mean_absolute_error: 0.0984 - val_loss: 0.0077 - val_mean_absolute_error: 0.0963\n",
      "Epoch 6/100\n",
      "10/10 [==============================] - 5s 481ms/step - loss: 0.0075 - mean_absolute_error: 0.0950 - val_loss: 0.0071 - val_mean_absolute_error: 0.0926\n"
     ]
    },
    {
     "data": {
      "text/plain": [
       "<keras.callbacks.History at 0x1e93fb17b50>"
      ]
     },
     "execution_count": 11,
     "metadata": {},
     "output_type": "execute_result"
    }
   ],
   "source": [
    "# My own preprocessing\n",
    "tf.random.set_seed(2022)\n",
    "model1.fit(x, y, epochs=100, shuffle=True, batch_size=batch_size, validation_data=(x_val, y_val), callbacks=[TargetCallbacks()])"
   ]
  },
  {
   "cell_type": "code",
   "execution_count": 12,
   "metadata": {},
   "outputs": [
    {
     "name": "stdout",
     "output_type": "stream",
     "text": [
      "Epoch 1/100\n",
      "10/10 [==============================] - 15s 792ms/step - loss: 0.0781 - mean_absolute_error: 0.3610 - val_loss: 0.0267 - val_mean_absolute_error: 0.1968\n",
      "Epoch 2/100\n",
      "10/10 [==============================] - 5s 521ms/step - loss: 0.0158 - mean_absolute_error: 0.1451 - val_loss: 0.0083 - val_mean_absolute_error: 0.1008\n",
      "Epoch 3/100\n",
      "10/10 [==============================] - 5s 528ms/step - loss: 0.0100 - mean_absolute_error: 0.1106 - val_loss: 0.0085 - val_mean_absolute_error: 0.1020\n",
      "Epoch 4/100\n",
      "10/10 [==============================] - 5s 522ms/step - loss: 0.0086 - mean_absolute_error: 0.1033 - val_loss: 0.0081 - val_mean_absolute_error: 0.0994\n",
      "Epoch 5/100\n",
      "10/10 [==============================] - 5s 498ms/step - loss: 0.0078 - mean_absolute_error: 0.0975 - val_loss: 0.0076 - val_mean_absolute_error: 0.0955\n",
      "Epoch 6/100\n",
      "10/10 [==============================] - 5s 496ms/step - loss: 0.0073 - mean_absolute_error: 0.0942 - val_loss: 0.0069 - val_mean_absolute_error: 0.0912\n"
     ]
    },
    {
     "data": {
      "text/plain": [
       "<keras.callbacks.History at 0x1e93e8b97f0>"
      ]
     },
     "execution_count": 12,
     "metadata": {},
     "output_type": "execute_result"
    }
   ],
   "source": [
    "tf.random.set_seed(2022)\n",
    "model2.fit(train_set, epochs=100, validation_data=test_set, callbacks=[TargetCallbacks()])"
   ]
  },
  {
   "cell_type": "code",
   "execution_count": 13,
   "metadata": {},
   "outputs": [
    {
     "name": "stdout",
     "output_type": "stream",
     "text": [
      "77/77 [==============================] - 4s 25ms/step\n",
      "77/77 [==============================] - 3s 21ms/step\n"
     ]
    }
   ],
   "source": [
    "a = model1.predict(x_val)\n",
    "b = model2.predict(x_val)"
   ]
  },
  {
   "cell_type": "code",
   "execution_count": 14,
   "metadata": {},
   "outputs": [],
   "source": [
    "a_reshaped = a.reshape(-1)\n",
    "b_reshaped = b.reshape(-1)"
   ]
  },
  {
   "cell_type": "code",
   "execution_count": 15,
   "metadata": {},
   "outputs": [],
   "source": [
    "import matplotlib.pyplot as plt"
   ]
  },
  {
   "cell_type": "code",
   "execution_count": 16,
   "metadata": {},
   "outputs": [
    {
     "data": {
      "text/plain": [
       "[<matplotlib.lines.Line2D at 0x1e953bd7f10>]"
      ]
     },
     "execution_count": 16,
     "metadata": {},
     "output_type": "execute_result"
    },
    {
     "data": {
      "image/png": "[encoded data removed]",
      "text/plain": [
       "<Figure size 432x288 with 1 Axes>"
      ]
     },
     "metadata": {
      "needs_background": "light"
     },
     "output_type": "display_data"
    }
   ],
   "source": [
    "plt.plot(y_val)\n",
    "plt.plot(a_reshaped)\n",
    "plt.plot(b_reshaped)"
   ]
  },
  {
   "cell_type": "code",
   "execution_count": 17,
   "metadata": {},
   "outputs": [
    {
     "name": "stdout",
     "output_type": "stream",
     "text": [
      "10/10 [==============================] - 2s 82ms/step - loss: 0.0072 - mean_absolute_error: 0.0930\n",
      "10/10 [==============================] - 1s 86ms/step - loss: 0.0069 - mean_absolute_error: 0.0912\n"
     ]
    },
    {
     "data": {
      "text/plain": [
       "[0.006886390503495932, 0.09123699367046356]"
      ]
     },
     "execution_count": 17,
     "metadata": {},
     "output_type": "execute_result"
    }
   ],
   "source": [
    "model1.evaluate(test_set)\n",
    "model2.evaluate(test_set)"
   ]
  },
  {
   "cell_type": "code",
   "execution_count": 18,
   "metadata": {},
   "outputs": [
    {
     "name": "stdout",
     "output_type": "stream",
     "text": [
      "77/77 [==============================] - 2s 15ms/step - loss: 0.0071 - mean_absolute_error: 0.0926\n",
      "77/77 [==============================] - 3s 15ms/step - loss: 0.0077 - mean_absolute_error: 0.0965\n"
     ]
    },
    {
     "data": {
      "text/plain": [
       "[0.007725842297077179, 0.09650137275457382]"
      ]
     },
     "execution_count": 18,
     "metadata": {},
     "output_type": "execute_result"
    }
   ],
   "source": [
    "model1.evaluate(x_val, y_val)\n",
    "model2.evaluate(x_val, y_val)"
   ]
  },
  {
   "cell_type": "code",
   "execution_count": null,
   "metadata": {},
   "outputs": [],
   "source": []
  }
 ],
 "metadata": {
  "kernelspec": {
   "display_name": "Python 3.8.0 ('venv': venv)",
   "language": "python",
   "name": "python3"
  },
  "language_info": {
   "codemirror_mode": {
    "name": "ipython",
    "version": 3
   },
   "file_extension": ".py",
   "mimetype": "text/x-python",
   "name": "python",
   "nbconvert_exporter": "python",
   "pygments_lexer": "ipython3",
   "version": "3.8.0"
  },
  "orig_nbformat": 4,
  "vscode": {
   "interpreter": {
    "hash": "26324798a88c25927ae941760a304936396135763b3c87023cd31fb875435716"
   }
  }
 },
 "nbformat": 4,
 "nbformat_minor": 2
}
