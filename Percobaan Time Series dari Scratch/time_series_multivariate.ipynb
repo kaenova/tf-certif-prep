{
 "cells": [
  {
   "cell_type": "code",
   "execution_count": 44,
   "metadata": {},
   "outputs": [],
   "source": [
    "import os\n",
    "os.environ['CUDA_VISIBLE_DEVICES'] = '-1' # -1 for disable CUDA\n",
    "\n",
    "\n",
    "import numpy as np\n",
    "import tensorflow as tf\n",
    "import csv\n",
    "CSV_DATA = \"daily-min-temp.csv\""
   ]
  },
  {
   "cell_type": "code",
   "execution_count": 45,
   "metadata": {},
   "outputs": [
    {
     "data": {
      "text/plain": [
       "array([20.7, 17.9, 18.8, ..., 13.5, 15.7, 13. ])"
      ]
     },
     "execution_count": 45,
     "metadata": {},
     "output_type": "execute_result"
    }
   ],
   "source": [
    "time_step = []\n",
    "temps = []\n",
    "\n",
    "with open(CSV_DATA) as csvfile:\n",
    "    reader = csv.reader(csvfile, delimiter=',')\n",
    "    next(reader)\n",
    "    step = 0\n",
    "    for row in reader:\n",
    "        temps.append(float(row[1]))\n",
    "        time_step.append(step)\n",
    "        step=step + 1\n",
    "\n",
    "series = np.array(temps)\n",
    "series"
   ]
  },
  {
   "cell_type": "code",
   "execution_count": 46,
   "metadata": {},
   "outputs": [],
   "source": [
    "series2_norm = np.random.rand(len(series))"
   ]
  },
  {
   "cell_type": "code",
   "execution_count": 55,
   "metadata": {},
   "outputs": [
    {
     "data": {
      "text/plain": [
       "array([0.78707224, 0.68060837, 0.7148289 , ..., 0.51330798, 0.59695817,\n",
       "       0.49429658])"
      ]
     },
     "execution_count": 55,
     "metadata": {},
     "output_type": "execute_result"
    }
   ],
   "source": [
    "# Normalizing series (it's min-max scaling right?) Yep...\n",
    "min=np.min(series)\n",
    "max=np.max(series)\n",
    "series_norm = (series - min) / (max - min)\n",
    "series_norm"
   ]
  },
  {
   "cell_type": "code",
   "execution_count": 154,
   "metadata": {},
   "outputs": [],
   "source": [
    "# DO NOT CHANGE THIS CODE\n",
    "split_time=2500\n",
    "\n",
    "# Training Data\n",
    "series1_train = series_norm[:split_time]\n",
    "series2_train = series2_norm[:split_time]\n",
    "\n",
    "# Testing\n",
    "series1_test = series_norm[split_time:]\n",
    "series2_test = series2_norm[split_time:]"
   ]
  },
  {
   "cell_type": "code",
   "execution_count": 155,
   "metadata": {},
   "outputs": [],
   "source": [
    "# DO NOT CHANGE THIS CODE\n",
    "window_size=64\n",
    "batch_size=256\n",
    "shuffle_buffer_size=1000\n",
    "\n",
    "# def windowed_dataset(series, window_size, batch_size, shuffle_buffer):\n",
    "#     series = tf.expand_dims(series, axis=-1)\n",
    "#     ds = tf.data.Dataset.from_tensor_slices(series)\n",
    "#     ds = ds.window(window_size + 1, shift=1, drop_remainder=True)\n",
    "#     ds = ds.flat_map(lambda w: w.batch(window_size + 1))\n",
    "#     ds = ds.shuffle(shuffle_buffer)\n",
    "#     ds = ds.map(lambda w: (w[:-1], w[1:]))\n",
    "#     return ds.batch(batch_size).prefetch(1)\n",
    "\n",
    "# train_set=windowed_dataset(\n",
    "#         x_train, window_size, batch_size, shuffle_buffer_size)\n",
    "# test_set=windowed_dataset(\n",
    "#         x_valid, window_size, batch_size, shuffle_buffer_size)"
   ]
  },
  {
   "cell_type": "code",
   "execution_count": 158,
   "metadata": {},
   "outputs": [],
   "source": [
    "# Target shape size (batch_size, timesteps, num_features)\n",
    "def multivariate_window(timesteps, target_series, *series):\n",
    "    reshaped_series = []\n",
    "    max_datasets = len(series[0][0]) - timesteps\n",
    "    for i in range(len(series[0])):\n",
    "        reshaped_series.append(series[0][i].reshape((-1,1)))\n",
    "    reshaped_series = np.asarray(reshaped_series)\n",
    "    reshaped_series = reshaped_series.reshape((len(series[0][0]), len(series[0])))\n",
    "    x = np.asarray([reshaped_series[i:timesteps+i] for i in range(max_datasets)])\n",
    "    y = np.asarray([target_series[timesteps+i] for i in range(max_datasets)]).reshape(-1)\n",
    "    return x, y\n",
    "\n",
    "x_train, y_train = multivariate_window(window_size, series1_train, [series1_train, series2_train])\n",
    "x_test, y_test = multivariate_window(window_size, series1_test, [series1_test, series2_test])"
   ]
  },
  {
   "cell_type": "code",
   "execution_count": 159,
   "metadata": {},
   "outputs": [],
   "source": [
    "main_model=tf.keras.models.Sequential([\n",
    "            # YOUR CODE HERE.\n",
    "            tf.keras.layers.Input(shape=(window_size, 2)),\n",
    "            tf.keras.layers.Conv1D(filters=64, kernel_size=5,\n",
    "                                strides=1, padding=\"causal\",\n",
    "                                activation=\"relu\"),\n",
    "            tf.keras.layers.Bidirectional(tf.keras.layers.LSTM(64, return_sequences=True)),\n",
    "            tf.keras.layers.Bidirectional(tf.keras.layers.LSTM(32)),\n",
    "            tf.keras.layers.Dense(30, activation=\"relu\"),\n",
    "            tf.keras.layers.Dense(30, activation=\"relu\"),\n",
    "            tf.keras.layers.Dense(10, activation=\"relu\"),\n",
    "            tf.keras.layers.Dense(1),\n",
    "    ])"
   ]
  },
  {
   "cell_type": "code",
   "execution_count": 163,
   "metadata": {},
   "outputs": [],
   "source": [
    "class TargetCallbacks(tf.keras.callbacks.Callback):\n",
    "    MAX_CONSECUTIVE = 10\n",
    "    consecutive_target = 0\n",
    "\n",
    "    target = \"mean_absolute_error\"\n",
    "    val_target =\"val_mean_absolute_error\"\n",
    "\n",
    "    desired = 0.019\n",
    "\n",
    "    def on_epoch_end(self, epoch, logs=None):\n",
    "        if (logs[self.target] < self.desired) and (logs[self.val_target] < self.desired):\n",
    "            self.consecutive_target += 1\n",
    "            if self.consecutive_target >= 5:\n",
    "                self.model.stop_training=True\n",
    "        else:\n",
    "            self.consecutive_target = 0\n",
    "\n",
    "def create_model(model, weights):\n",
    "    model1=tf.keras.models.clone_model(model)\n",
    "    model1.compile(optimizer=\"adam\", loss=tf.keras.losses.Huber(), metrics=[\"mean_absolute_error\"])\n",
    "    model1.set_weights(weights)\n",
    "    \n",
    "    model2=tf.keras.models.clone_model(model)\n",
    "    model2.compile(optimizer=\"adam\", loss=tf.keras.losses.Huber(), metrics=[\"mean_absolute_error\"])\n",
    "    model2.set_weights(weights)\n",
    "    return model1, model2"
   ]
  },
  {
   "cell_type": "code",
   "execution_count": 164,
   "metadata": {},
   "outputs": [
    {
     "name": "stdout",
     "output_type": "stream",
     "text": [
      "0x268dd77e6a0\n",
      "0x268dd233850\n"
     ]
    }
   ],
   "source": [
    "model1, model2 = create_model(main_model, main_model.get_weights())\n",
    "# Check if points to same model\n",
    "print(hex(id(model1)))\n",
    "print(hex(id(model2)))"
   ]
  },
  {
   "cell_type": "code",
   "execution_count": 165,
   "metadata": {},
   "outputs": [
    {
     "name": "stdout",
     "output_type": "stream",
     "text": [
      "Epoch 1/100\n",
      "10/10 [==============================] - 8s 416ms/step - loss: 0.0385 - mean_absolute_error: 0.2275 - val_loss: 0.0136 - val_mean_absolute_error: 0.1362\n",
      "Epoch 2/100\n",
      "10/10 [==============================] - 3s 316ms/step - loss: 0.0128 - mean_absolute_error: 0.1288 - val_loss: 0.0129 - val_mean_absolute_error: 0.1328\n",
      "Epoch 3/100\n",
      "10/10 [==============================] - 3s 319ms/step - loss: 0.0121 - mean_absolute_error: 0.1265 - val_loss: 0.0145 - val_mean_absolute_error: 0.1401\n",
      "Epoch 4/100\n",
      "10/10 [==============================] - 3s 325ms/step - loss: 0.0119 - mean_absolute_error: 0.1240 - val_loss: 0.0124 - val_mean_absolute_error: 0.1307\n",
      "Epoch 5/100\n",
      "10/10 [==============================] - 3s 335ms/step - loss: 0.0116 - mean_absolute_error: 0.1224 - val_loss: 0.0125 - val_mean_absolute_error: 0.1312\n",
      "Epoch 6/100\n",
      "10/10 [==============================] - 3s 332ms/step - loss: 0.0117 - mean_absolute_error: 0.1230 - val_loss: 0.0131 - val_mean_absolute_error: 0.1336\n",
      "Epoch 7/100\n",
      "10/10 [==============================] - 3s 337ms/step - loss: 0.0115 - mean_absolute_error: 0.1224 - val_loss: 0.0125 - val_mean_absolute_error: 0.1308\n",
      "Epoch 8/100\n",
      "10/10 [==============================] - 3s 336ms/step - loss: 0.0115 - mean_absolute_error: 0.1216 - val_loss: 0.0121 - val_mean_absolute_error: 0.1286\n",
      "Epoch 9/100\n",
      "10/10 [==============================] - 3s 336ms/step - loss: 0.0114 - mean_absolute_error: 0.1216 - val_loss: 0.0124 - val_mean_absolute_error: 0.1300\n",
      "Epoch 10/100\n",
      "10/10 [==============================] - 3s 341ms/step - loss: 0.0114 - mean_absolute_error: 0.1214 - val_loss: 0.0122 - val_mean_absolute_error: 0.1290\n",
      "Epoch 11/100\n",
      "10/10 [==============================] - 3s 344ms/step - loss: 0.0113 - mean_absolute_error: 0.1212 - val_loss: 0.0131 - val_mean_absolute_error: 0.1328\n",
      "Epoch 12/100\n",
      "10/10 [==============================] - 3s 346ms/step - loss: 0.0116 - mean_absolute_error: 0.1222 - val_loss: 0.0132 - val_mean_absolute_error: 0.1330\n",
      "Epoch 13/100\n",
      "10/10 [==============================] - 3s 338ms/step - loss: 0.0115 - mean_absolute_error: 0.1215 - val_loss: 0.0123 - val_mean_absolute_error: 0.1294\n",
      "Epoch 14/100\n",
      "10/10 [==============================] - 3s 353ms/step - loss: 0.0115 - mean_absolute_error: 0.1213 - val_loss: 0.0123 - val_mean_absolute_error: 0.1294\n",
      "Epoch 15/100\n",
      "10/10 [==============================] - 3s 348ms/step - loss: 0.0115 - mean_absolute_error: 0.1214 - val_loss: 0.0117 - val_mean_absolute_error: 0.1264\n",
      "Epoch 16/100\n",
      "10/10 [==============================] - 4s 362ms/step - loss: 0.0115 - mean_absolute_error: 0.1211 - val_loss: 0.0117 - val_mean_absolute_error: 0.1262\n",
      "Epoch 17/100\n",
      "10/10 [==============================] - 4s 363ms/step - loss: 0.0113 - mean_absolute_error: 0.1207 - val_loss: 0.0117 - val_mean_absolute_error: 0.1261\n",
      "Epoch 18/100\n",
      "10/10 [==============================] - 4s 374ms/step - loss: 0.0112 - mean_absolute_error: 0.1204 - val_loss: 0.0122 - val_mean_absolute_error: 0.1287\n",
      "Epoch 19/100\n",
      "10/10 [==============================] - 4s 358ms/step - loss: 0.0112 - mean_absolute_error: 0.1203 - val_loss: 0.0123 - val_mean_absolute_error: 0.1289\n",
      "Epoch 20/100\n",
      "10/10 [==============================] - 4s 424ms/step - loss: 0.0113 - mean_absolute_error: 0.1201 - val_loss: 0.0118 - val_mean_absolute_error: 0.1266\n",
      "Epoch 21/100\n",
      "10/10 [==============================] - 4s 430ms/step - loss: 0.0112 - mean_absolute_error: 0.1200 - val_loss: 0.0119 - val_mean_absolute_error: 0.1267\n",
      "Epoch 22/100\n",
      "10/10 [==============================] - 4s 406ms/step - loss: 0.0112 - mean_absolute_error: 0.1197 - val_loss: 0.0121 - val_mean_absolute_error: 0.1277\n",
      "Epoch 23/100\n",
      "10/10 [==============================] - 4s 365ms/step - loss: 0.0113 - mean_absolute_error: 0.1203 - val_loss: 0.0122 - val_mean_absolute_error: 0.1279\n",
      "Epoch 24/100\n",
      "10/10 [==============================] - 4s 359ms/step - loss: 0.0112 - mean_absolute_error: 0.1195 - val_loss: 0.0116 - val_mean_absolute_error: 0.1253\n",
      "Epoch 25/100\n",
      "10/10 [==============================] - 4s 365ms/step - loss: 0.0112 - mean_absolute_error: 0.1194 - val_loss: 0.0114 - val_mean_absolute_error: 0.1245\n",
      "Epoch 26/100\n",
      "10/10 [==============================] - 4s 362ms/step - loss: 0.0111 - mean_absolute_error: 0.1195 - val_loss: 0.0114 - val_mean_absolute_error: 0.1245\n",
      "Epoch 27/100\n",
      "10/10 [==============================] - 4s 356ms/step - loss: 0.0111 - mean_absolute_error: 0.1191 - val_loss: 0.0113 - val_mean_absolute_error: 0.1239\n",
      "Epoch 28/100\n",
      "10/10 [==============================] - 4s 384ms/step - loss: 0.0111 - mean_absolute_error: 0.1193 - val_loss: 0.0114 - val_mean_absolute_error: 0.1244\n",
      "Epoch 29/100\n",
      "10/10 [==============================] - 4s 437ms/step - loss: 0.0110 - mean_absolute_error: 0.1183 - val_loss: 0.0115 - val_mean_absolute_error: 0.1245\n",
      "Epoch 30/100\n",
      "10/10 [==============================] - 4s 440ms/step - loss: 0.0108 - mean_absolute_error: 0.1176 - val_loss: 0.0114 - val_mean_absolute_error: 0.1239\n",
      "Epoch 31/100\n",
      "10/10 [==============================] - 5s 509ms/step - loss: 0.0109 - mean_absolute_error: 0.1179 - val_loss: 0.0114 - val_mean_absolute_error: 0.1239\n",
      "Epoch 32/100\n",
      "10/10 [==============================] - 4s 437ms/step - loss: 0.0107 - mean_absolute_error: 0.1169 - val_loss: 0.0120 - val_mean_absolute_error: 0.1267\n",
      "Epoch 33/100\n",
      "10/10 [==============================] - 6s 576ms/step - loss: 0.0106 - mean_absolute_error: 0.1160 - val_loss: 0.0113 - val_mean_absolute_error: 0.1232\n",
      "Epoch 34/100\n",
      "10/10 [==============================] - 6s 584ms/step - loss: 0.0109 - mean_absolute_error: 0.1182 - val_loss: 0.0141 - val_mean_absolute_error: 0.1364\n",
      "Epoch 35/100\n",
      "10/10 [==============================] - 5s 539ms/step - loss: 0.0112 - mean_absolute_error: 0.1193 - val_loss: 0.0117 - val_mean_absolute_error: 0.1256\n",
      "Epoch 36/100\n",
      "10/10 [==============================] - 5s 545ms/step - loss: 0.0105 - mean_absolute_error: 0.1158 - val_loss: 0.0116 - val_mean_absolute_error: 0.1247\n",
      "Epoch 37/100\n",
      "10/10 [==============================] - 6s 574ms/step - loss: 0.0104 - mean_absolute_error: 0.1146 - val_loss: 0.0118 - val_mean_absolute_error: 0.1254\n",
      "Epoch 38/100\n",
      "10/10 [==============================] - 5s 512ms/step - loss: 0.0102 - mean_absolute_error: 0.1137 - val_loss: 0.0112 - val_mean_absolute_error: 0.1229\n",
      "Epoch 39/100\n",
      "10/10 [==============================] - 5s 497ms/step - loss: 0.0104 - mean_absolute_error: 0.1152 - val_loss: 0.0114 - val_mean_absolute_error: 0.1235\n",
      "Epoch 40/100\n",
      "10/10 [==============================] - 5s 527ms/step - loss: 0.0100 - mean_absolute_error: 0.1116 - val_loss: 0.0115 - val_mean_absolute_error: 0.1249\n",
      "Epoch 41/100\n",
      "10/10 [==============================] - 5s 498ms/step - loss: 0.0099 - mean_absolute_error: 0.1118 - val_loss: 0.0116 - val_mean_absolute_error: 0.1254\n",
      "Epoch 42/100\n",
      " 2/10 [=====>........................] - ETA: 3s - loss: 0.0087 - mean_absolute_error: 0.1043"
     ]
    },
    {
     "ename": "KeyboardInterrupt",
     "evalue": "",
     "output_type": "error",
     "traceback": [
      "\u001b[1;31m---------------------------------------------------------------------------\u001b[0m",
      "\u001b[1;31mKeyboardInterrupt\u001b[0m                         Traceback (most recent call last)",
      "\u001b[1;32md:\\@Programming\\@On Going\\School\\Bangkit\\tf-certif-prep\\Percobaan Time Series dari Scratch\\time_series_multivariate.ipynb Cell 11\u001b[0m in \u001b[0;36m<cell line: 3>\u001b[1;34m()\u001b[0m\n\u001b[0;32m      <a href='vscode-notebook-cell:/d%3A/%40Programming/%40On%20Going/School/Bangkit/tf-certif-prep/Percobaan%20Time%20Series%20dari%20Scratch/time_series_multivariate.ipynb#ch0000010?line=0'>1</a>\u001b[0m \u001b[39m# My own preprocessing\u001b[39;00m\n\u001b[0;32m      <a href='vscode-notebook-cell:/d%3A/%40Programming/%40On%20Going/School/Bangkit/tf-certif-prep/Percobaan%20Time%20Series%20dari%20Scratch/time_series_multivariate.ipynb#ch0000010?line=1'>2</a>\u001b[0m tf\u001b[39m.\u001b[39mrandom\u001b[39m.\u001b[39mset_seed(\u001b[39m2022\u001b[39m)\n\u001b[1;32m----> <a href='vscode-notebook-cell:/d%3A/%40Programming/%40On%20Going/School/Bangkit/tf-certif-prep/Percobaan%20Time%20Series%20dari%20Scratch/time_series_multivariate.ipynb#ch0000010?line=2'>3</a>\u001b[0m model1\u001b[39m.\u001b[39;49mfit(x_train, y_train, epochs\u001b[39m=\u001b[39;49m\u001b[39m100\u001b[39;49m, shuffle\u001b[39m=\u001b[39;49m\u001b[39mTrue\u001b[39;49;00m, batch_size\u001b[39m=\u001b[39;49mbatch_size, validation_data\u001b[39m=\u001b[39;49m(x_test, y_test), callbacks\u001b[39m=\u001b[39;49m[TargetCallbacks()])\n",
      "File \u001b[1;32md:\\@Programming\\@On Going\\School\\Bangkit\\tf-certif-prep\\venv\\lib\\site-packages\\keras\\utils\\traceback_utils.py:64\u001b[0m, in \u001b[0;36mfilter_traceback.<locals>.error_handler\u001b[1;34m(*args, **kwargs)\u001b[0m\n\u001b[0;32m     62\u001b[0m filtered_tb \u001b[39m=\u001b[39m \u001b[39mNone\u001b[39;00m\n\u001b[0;32m     63\u001b[0m \u001b[39mtry\u001b[39;00m:\n\u001b[1;32m---> 64\u001b[0m   \u001b[39mreturn\u001b[39;00m fn(\u001b[39m*\u001b[39;49margs, \u001b[39m*\u001b[39;49m\u001b[39m*\u001b[39;49mkwargs)\n\u001b[0;32m     65\u001b[0m \u001b[39mexcept\u001b[39;00m \u001b[39mException\u001b[39;00m \u001b[39mas\u001b[39;00m e:  \u001b[39m# pylint: disable=broad-except\u001b[39;00m\n\u001b[0;32m     66\u001b[0m   filtered_tb \u001b[39m=\u001b[39m _process_traceback_frames(e\u001b[39m.\u001b[39m__traceback__)\n",
      "File \u001b[1;32md:\\@Programming\\@On Going\\School\\Bangkit\\tf-certif-prep\\venv\\lib\\site-packages\\keras\\engine\\training.py:1409\u001b[0m, in \u001b[0;36mModel.fit\u001b[1;34m(self, x, y, batch_size, epochs, verbose, callbacks, validation_split, validation_data, shuffle, class_weight, sample_weight, initial_epoch, steps_per_epoch, validation_steps, validation_batch_size, validation_freq, max_queue_size, workers, use_multiprocessing)\u001b[0m\n\u001b[0;32m   1402\u001b[0m \u001b[39mwith\u001b[39;00m tf\u001b[39m.\u001b[39mprofiler\u001b[39m.\u001b[39mexperimental\u001b[39m.\u001b[39mTrace(\n\u001b[0;32m   1403\u001b[0m     \u001b[39m'\u001b[39m\u001b[39mtrain\u001b[39m\u001b[39m'\u001b[39m,\n\u001b[0;32m   1404\u001b[0m     epoch_num\u001b[39m=\u001b[39mepoch,\n\u001b[0;32m   1405\u001b[0m     step_num\u001b[39m=\u001b[39mstep,\n\u001b[0;32m   1406\u001b[0m     batch_size\u001b[39m=\u001b[39mbatch_size,\n\u001b[0;32m   1407\u001b[0m     _r\u001b[39m=\u001b[39m\u001b[39m1\u001b[39m):\n\u001b[0;32m   1408\u001b[0m   callbacks\u001b[39m.\u001b[39mon_train_batch_begin(step)\n\u001b[1;32m-> 1409\u001b[0m   tmp_logs \u001b[39m=\u001b[39m \u001b[39mself\u001b[39;49m\u001b[39m.\u001b[39;49mtrain_function(iterator)\n\u001b[0;32m   1410\u001b[0m   \u001b[39mif\u001b[39;00m data_handler\u001b[39m.\u001b[39mshould_sync:\n\u001b[0;32m   1411\u001b[0m     context\u001b[39m.\u001b[39masync_wait()\n",
      "File \u001b[1;32md:\\@Programming\\@On Going\\School\\Bangkit\\tf-certif-prep\\venv\\lib\\site-packages\\tensorflow\\python\\util\\traceback_utils.py:150\u001b[0m, in \u001b[0;36mfilter_traceback.<locals>.error_handler\u001b[1;34m(*args, **kwargs)\u001b[0m\n\u001b[0;32m    148\u001b[0m filtered_tb \u001b[39m=\u001b[39m \u001b[39mNone\u001b[39;00m\n\u001b[0;32m    149\u001b[0m \u001b[39mtry\u001b[39;00m:\n\u001b[1;32m--> 150\u001b[0m   \u001b[39mreturn\u001b[39;00m fn(\u001b[39m*\u001b[39;49margs, \u001b[39m*\u001b[39;49m\u001b[39m*\u001b[39;49mkwargs)\n\u001b[0;32m    151\u001b[0m \u001b[39mexcept\u001b[39;00m \u001b[39mException\u001b[39;00m \u001b[39mas\u001b[39;00m e:\n\u001b[0;32m    152\u001b[0m   filtered_tb \u001b[39m=\u001b[39m _process_traceback_frames(e\u001b[39m.\u001b[39m__traceback__)\n",
      "File \u001b[1;32md:\\@Programming\\@On Going\\School\\Bangkit\\tf-certif-prep\\venv\\lib\\site-packages\\tensorflow\\python\\eager\\def_function.py:915\u001b[0m, in \u001b[0;36mFunction.__call__\u001b[1;34m(self, *args, **kwds)\u001b[0m\n\u001b[0;32m    912\u001b[0m compiler \u001b[39m=\u001b[39m \u001b[39m\"\u001b[39m\u001b[39mxla\u001b[39m\u001b[39m\"\u001b[39m \u001b[39mif\u001b[39;00m \u001b[39mself\u001b[39m\u001b[39m.\u001b[39m_jit_compile \u001b[39melse\u001b[39;00m \u001b[39m\"\u001b[39m\u001b[39mnonXla\u001b[39m\u001b[39m\"\u001b[39m\n\u001b[0;32m    914\u001b[0m \u001b[39mwith\u001b[39;00m OptionalXlaContext(\u001b[39mself\u001b[39m\u001b[39m.\u001b[39m_jit_compile):\n\u001b[1;32m--> 915\u001b[0m   result \u001b[39m=\u001b[39m \u001b[39mself\u001b[39;49m\u001b[39m.\u001b[39;49m_call(\u001b[39m*\u001b[39;49margs, \u001b[39m*\u001b[39;49m\u001b[39m*\u001b[39;49mkwds)\n\u001b[0;32m    917\u001b[0m new_tracing_count \u001b[39m=\u001b[39m \u001b[39mself\u001b[39m\u001b[39m.\u001b[39mexperimental_get_tracing_count()\n\u001b[0;32m    918\u001b[0m without_tracing \u001b[39m=\u001b[39m (tracing_count \u001b[39m==\u001b[39m new_tracing_count)\n",
      "File \u001b[1;32md:\\@Programming\\@On Going\\School\\Bangkit\\tf-certif-prep\\venv\\lib\\site-packages\\tensorflow\\python\\eager\\def_function.py:947\u001b[0m, in \u001b[0;36mFunction._call\u001b[1;34m(self, *args, **kwds)\u001b[0m\n\u001b[0;32m    944\u001b[0m   \u001b[39mself\u001b[39m\u001b[39m.\u001b[39m_lock\u001b[39m.\u001b[39mrelease()\n\u001b[0;32m    945\u001b[0m   \u001b[39m# In this case we have created variables on the first call, so we run the\u001b[39;00m\n\u001b[0;32m    946\u001b[0m   \u001b[39m# defunned version which is guaranteed to never create variables.\u001b[39;00m\n\u001b[1;32m--> 947\u001b[0m   \u001b[39mreturn\u001b[39;00m \u001b[39mself\u001b[39;49m\u001b[39m.\u001b[39;49m_stateless_fn(\u001b[39m*\u001b[39;49margs, \u001b[39m*\u001b[39;49m\u001b[39m*\u001b[39;49mkwds)  \u001b[39m# pylint: disable=not-callable\u001b[39;00m\n\u001b[0;32m    948\u001b[0m \u001b[39melif\u001b[39;00m \u001b[39mself\u001b[39m\u001b[39m.\u001b[39m_stateful_fn \u001b[39mis\u001b[39;00m \u001b[39mnot\u001b[39;00m \u001b[39mNone\u001b[39;00m:\n\u001b[0;32m    949\u001b[0m   \u001b[39m# Release the lock early so that multiple threads can perform the call\u001b[39;00m\n\u001b[0;32m    950\u001b[0m   \u001b[39m# in parallel.\u001b[39;00m\n\u001b[0;32m    951\u001b[0m   \u001b[39mself\u001b[39m\u001b[39m.\u001b[39m_lock\u001b[39m.\u001b[39mrelease()\n",
      "File \u001b[1;32md:\\@Programming\\@On Going\\School\\Bangkit\\tf-certif-prep\\venv\\lib\\site-packages\\tensorflow\\python\\eager\\function.py:2453\u001b[0m, in \u001b[0;36mFunction.__call__\u001b[1;34m(self, *args, **kwargs)\u001b[0m\n\u001b[0;32m   2450\u001b[0m \u001b[39mwith\u001b[39;00m \u001b[39mself\u001b[39m\u001b[39m.\u001b[39m_lock:\n\u001b[0;32m   2451\u001b[0m   (graph_function,\n\u001b[0;32m   2452\u001b[0m    filtered_flat_args) \u001b[39m=\u001b[39m \u001b[39mself\u001b[39m\u001b[39m.\u001b[39m_maybe_define_function(args, kwargs)\n\u001b[1;32m-> 2453\u001b[0m \u001b[39mreturn\u001b[39;00m graph_function\u001b[39m.\u001b[39;49m_call_flat(\n\u001b[0;32m   2454\u001b[0m     filtered_flat_args, captured_inputs\u001b[39m=\u001b[39;49mgraph_function\u001b[39m.\u001b[39;49mcaptured_inputs)\n",
      "File \u001b[1;32md:\\@Programming\\@On Going\\School\\Bangkit\\tf-certif-prep\\venv\\lib\\site-packages\\tensorflow\\python\\eager\\function.py:1860\u001b[0m, in \u001b[0;36mConcreteFunction._call_flat\u001b[1;34m(self, args, captured_inputs, cancellation_manager)\u001b[0m\n\u001b[0;32m   1856\u001b[0m possible_gradient_type \u001b[39m=\u001b[39m gradients_util\u001b[39m.\u001b[39mPossibleTapeGradientTypes(args)\n\u001b[0;32m   1857\u001b[0m \u001b[39mif\u001b[39;00m (possible_gradient_type \u001b[39m==\u001b[39m gradients_util\u001b[39m.\u001b[39mPOSSIBLE_GRADIENT_TYPES_NONE\n\u001b[0;32m   1858\u001b[0m     \u001b[39mand\u001b[39;00m executing_eagerly):\n\u001b[0;32m   1859\u001b[0m   \u001b[39m# No tape is watching; skip to running the function.\u001b[39;00m\n\u001b[1;32m-> 1860\u001b[0m   \u001b[39mreturn\u001b[39;00m \u001b[39mself\u001b[39m\u001b[39m.\u001b[39m_build_call_outputs(\u001b[39mself\u001b[39;49m\u001b[39m.\u001b[39;49m_inference_function\u001b[39m.\u001b[39;49mcall(\n\u001b[0;32m   1861\u001b[0m       ctx, args, cancellation_manager\u001b[39m=\u001b[39;49mcancellation_manager))\n\u001b[0;32m   1862\u001b[0m forward_backward \u001b[39m=\u001b[39m \u001b[39mself\u001b[39m\u001b[39m.\u001b[39m_select_forward_and_backward_functions(\n\u001b[0;32m   1863\u001b[0m     args,\n\u001b[0;32m   1864\u001b[0m     possible_gradient_type,\n\u001b[0;32m   1865\u001b[0m     executing_eagerly)\n\u001b[0;32m   1866\u001b[0m forward_function, args_with_tangents \u001b[39m=\u001b[39m forward_backward\u001b[39m.\u001b[39mforward()\n",
      "File \u001b[1;32md:\\@Programming\\@On Going\\School\\Bangkit\\tf-certif-prep\\venv\\lib\\site-packages\\tensorflow\\python\\eager\\function.py:497\u001b[0m, in \u001b[0;36m_EagerDefinedFunction.call\u001b[1;34m(self, ctx, args, cancellation_manager)\u001b[0m\n\u001b[0;32m    495\u001b[0m \u001b[39mwith\u001b[39;00m _InterpolateFunctionError(\u001b[39mself\u001b[39m):\n\u001b[0;32m    496\u001b[0m   \u001b[39mif\u001b[39;00m cancellation_manager \u001b[39mis\u001b[39;00m \u001b[39mNone\u001b[39;00m:\n\u001b[1;32m--> 497\u001b[0m     outputs \u001b[39m=\u001b[39m execute\u001b[39m.\u001b[39;49mexecute(\n\u001b[0;32m    498\u001b[0m         \u001b[39mstr\u001b[39;49m(\u001b[39mself\u001b[39;49m\u001b[39m.\u001b[39;49msignature\u001b[39m.\u001b[39;49mname),\n\u001b[0;32m    499\u001b[0m         num_outputs\u001b[39m=\u001b[39;49m\u001b[39mself\u001b[39;49m\u001b[39m.\u001b[39;49m_num_outputs,\n\u001b[0;32m    500\u001b[0m         inputs\u001b[39m=\u001b[39;49margs,\n\u001b[0;32m    501\u001b[0m         attrs\u001b[39m=\u001b[39;49mattrs,\n\u001b[0;32m    502\u001b[0m         ctx\u001b[39m=\u001b[39;49mctx)\n\u001b[0;32m    503\u001b[0m   \u001b[39melse\u001b[39;00m:\n\u001b[0;32m    504\u001b[0m     outputs \u001b[39m=\u001b[39m execute\u001b[39m.\u001b[39mexecute_with_cancellation(\n\u001b[0;32m    505\u001b[0m         \u001b[39mstr\u001b[39m(\u001b[39mself\u001b[39m\u001b[39m.\u001b[39msignature\u001b[39m.\u001b[39mname),\n\u001b[0;32m    506\u001b[0m         num_outputs\u001b[39m=\u001b[39m\u001b[39mself\u001b[39m\u001b[39m.\u001b[39m_num_outputs,\n\u001b[1;32m   (...)\u001b[0m\n\u001b[0;32m    509\u001b[0m         ctx\u001b[39m=\u001b[39mctx,\n\u001b[0;32m    510\u001b[0m         cancellation_manager\u001b[39m=\u001b[39mcancellation_manager)\n",
      "File \u001b[1;32md:\\@Programming\\@On Going\\School\\Bangkit\\tf-certif-prep\\venv\\lib\\site-packages\\tensorflow\\python\\eager\\execute.py:54\u001b[0m, in \u001b[0;36mquick_execute\u001b[1;34m(op_name, num_outputs, inputs, attrs, ctx, name)\u001b[0m\n\u001b[0;32m     52\u001b[0m \u001b[39mtry\u001b[39;00m:\n\u001b[0;32m     53\u001b[0m   ctx\u001b[39m.\u001b[39mensure_initialized()\n\u001b[1;32m---> 54\u001b[0m   tensors \u001b[39m=\u001b[39m pywrap_tfe\u001b[39m.\u001b[39;49mTFE_Py_Execute(ctx\u001b[39m.\u001b[39;49m_handle, device_name, op_name,\n\u001b[0;32m     55\u001b[0m                                       inputs, attrs, num_outputs)\n\u001b[0;32m     56\u001b[0m \u001b[39mexcept\u001b[39;00m core\u001b[39m.\u001b[39m_NotOkStatusException \u001b[39mas\u001b[39;00m e:\n\u001b[0;32m     57\u001b[0m   \u001b[39mif\u001b[39;00m name \u001b[39mis\u001b[39;00m \u001b[39mnot\u001b[39;00m \u001b[39mNone\u001b[39;00m:\n",
      "\u001b[1;31mKeyboardInterrupt\u001b[0m: "
     ]
    }
   ],
   "source": [
    "# My own preprocessing\n",
    "tf.random.set_seed(2022)\n",
    "model1.fit(x_train, y_train, epochs=100, shuffle=True, batch_size=batch_size, validation_data=(x_test, y_test), callbacks=[TargetCallbacks()])"
   ]
  },
  {
   "cell_type": "code",
   "execution_count": 166,
   "metadata": {},
   "outputs": [
    {
     "name": "stdout",
     "output_type": "stream",
     "text": [
      "34/34 [==============================] - 2s 28ms/step\n"
     ]
    }
   ],
   "source": [
    "a = model1.predict(x_test)"
   ]
  },
  {
   "cell_type": "code",
   "execution_count": 167,
   "metadata": {},
   "outputs": [],
   "source": [
    "a_reshaped = a.reshape(-1)"
   ]
  },
  {
   "cell_type": "code",
   "execution_count": 168,
   "metadata": {},
   "outputs": [],
   "source": [
    "import matplotlib.pyplot as plt"
   ]
  },
  {
   "cell_type": "code",
   "execution_count": 169,
   "metadata": {},
   "outputs": [
    {
     "data": {
      "text/plain": [
       "[<matplotlib.lines.Line2D at 0x268ecd189a0>]"
      ]
     },
     "execution_count": 169,
     "metadata": {},
     "output_type": "execute_result"
    },
    {
     "data": {
      "image/png": "[encoded data removed]",
      "text/plain": [
       "<Figure size 432x288 with 1 Axes>"
      ]
     },
     "metadata": {
      "needs_background": "light"
     },
     "output_type": "display_data"
    }
   ],
   "source": [
    "plt.plot(y_test)\n",
    "plt.plot(a_reshaped)"
   ]
  }
 ],
 "metadata": {
  "kernelspec": {
   "display_name": "Python 3.8.0 ('venv': venv)",
   "language": "python",
   "name": "python3"
  },
  "language_info": {
   "codemirror_mode": {
    "name": "ipython",
    "version": 3
   },
   "file_extension": ".py",
   "mimetype": "text/x-python",
   "name": "python",
   "nbconvert_exporter": "python",
   "pygments_lexer": "ipython3",
   "version": "3.8.0"
  },
  "orig_nbformat": 4,
  "vscode": {
   "interpreter": {
    "hash": "26324798a88c25927ae941760a304936396135763b3c87023cd31fb875435716"
   }
  }
 },
 "nbformat": 4,
 "nbformat_minor": 2
}
